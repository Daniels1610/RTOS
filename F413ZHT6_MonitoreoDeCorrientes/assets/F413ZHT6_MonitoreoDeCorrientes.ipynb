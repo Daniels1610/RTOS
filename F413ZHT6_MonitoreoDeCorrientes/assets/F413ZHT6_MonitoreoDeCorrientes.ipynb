{
 "cells": [
  {
   "cell_type": "markdown",
   "id": "VtECoCggrYR4",
   "metadata": {
    "id": "VtECoCggrYR4"
   },
   "source": [
    "| Project name   |  Monitoreo de corrientes |\n",
    "|:----------|:-------------|\n",
    "| **Autor(S)**| 32438, Ximena Lizeth González Plascencia<br>27814, Ivannia Gomez Moreno<br> 27808, Jorge Naoto Matsumoto Llanes |\n",
    "| **Editor**|Dr. Adán Hirales Carbajal|\n",
    "| **Last update** | 20/Nov/22 23:01 |"
   ]
  },
  {
   "cell_type": "markdown",
   "id": "GDvJAZxvrYSK",
   "metadata": {
    "id": "GDvJAZxvrYSK"
   },
   "source": [
    "## <span style=\"color:blue\">Problem statement</span>\n",
    "\n",
    "Implement a tool that is able to administrate sensors to allow the monitoring and gathering of data, which includes movement of waves in the ocean, specifically rip currents. This helps in the establishment of measurements that are crucial in search and rescue operations.\n",
    "\n",
    "An example of the utility of the gathering  of this information is the implementation of a database, where the data collected of the movement of waves can be correlated to the seasons, thus preventing accidents in the shore. Speaking outside the range of this project, this information may be useful to handle natural disasters and other engineering projects in the shore.\n",
    "\n",
    "The software solution consists in two sections: a device that is able to detect the movement of waves and another device that receives this information in the shore. The former periodically reads the movement of waves and transmits the information to the latter, so that the data is able to be processed and analyzed Thus, this involves two tasks: the detection of waves and the connection betwen devices. \n"
   ]
  },
  {
   "cell_type": "markdown",
   "id": "FHu4mtS7rYSN",
   "metadata": {
    "id": "FHu4mtS7rYSN"
   },
   "source": [
    "## <span style=\"color:blue\">Hardware requirements</span>\n",
    "\n",
    "\n",
    "|Component|Quantity|Characteristics|Component|\n",
    "|:---|:---|:-----|:---:|\n",
    "|STM32F413ZHT6|2| Development board|<img src=\"../img/stm32f413zht6.jpg\" alt=\"SIPO\" width=\"150\" eight=\"150\">|\n",
    "|REYAX RYLR896|2|Tranceiver module that provides LoRa connectivity with an <br>AT-command Serial interface to the host microcontroller.|<img src=\"../img/rylr.jpg\" alt=\"PISO\" width=\"100\" height=\"100\">|\n",
    "|Pontetiometer B5K|1|Three-terminal resistor with a sliding or rotating contact that forms an adjustable voltage divide|<img src=\"../img/potentiometer.jpg\" alt=\"PISO\" width=\"100\" height=\"100\">|\n"
   ]
  },
  {
   "cell_type": "markdown",
   "id": "l3L59qlWrYSR",
   "metadata": {
    "id": "l3L59qlWrYSR"
   },
   "source": [
    "## <span style=\"color:blue\">Hardware schematic</span>\n",
    "\n",
    "<center>\n",
    "<img class=\"large-image\" width=\"700\" height=\"700\" src=\"../img/Schematic_Diagrama2_2022-11-20.png\" />\n",
    "</center>\n",
    "\n",
    "<!-- ![](https://drive.google.com/uc?export=view&id=1SnStCi-9NgLr55ifJMSMNIZKoo6Zwz67) -->"
   ]
  },
  {
   "cell_type": "markdown",
   "id": "jpuqjeH4rYSS",
   "metadata": {
    "id": "jpuqjeH4rYSS"
   },
   "source": [
    "## <span style=\"color:blue\">Hardware layout</span>\n",
    "\n",
    "| | |\n",
    "|:--:|:--:|\n",
    "|<img class=\"large-image\" width=\"40\" height=\"40\" src=\"img_shift_register/circuit/installed.png\" alt=\"Installed hardware\"/>|<img class=\"large-image\" width=\"40\" height=\"40\" src=\"img_shift_register/circuit/stm32_connections.jpg\" alt=\"Connection to board\"/>|\n",
    "|Installed hardware |Connection to board|\n",
    "|<img class=\"large-image\" width=\"40\" height=\"40\" src=\"img_shift_register/circuit/pa3_marked.png\" alt=\"Installed hardware\"/>|<img class=\"large-image\" width=\"40\" height=\"40\" src=\"img_shift_register/circuit/pc0_marked.png\" alt=\"Connection to board\"/>|\n",
    "|Read data to STM32. Pin PA3 connection |Clock signal. Pin PC0 connection|\n",
    "|<img class=\"large-image\" width=\"40\" height=\"40\" src=\"img_shift_register/circuit/pc3_marked.png\" alt=\"Installed hardware\"/>|<img class=\"large-image\" width=\"40\" height=\"40\" src=\"img_shift_register/circuit/pf3_marked.png\" alt=\"Connection to board\"/>|\n",
    "|PC3: Choose between parallel and serial mode. Pin PC3 connection|Send serial data from STM32 to IC|\n",
    "\n"
   ]
  },
  {
   "cell_type": "markdown",
   "id": "fqEH0PPdrYSU",
   "metadata": {
    "id": "fqEH0PPdrYSU"
   },
   "source": [
    "## <span style=\"color:blue\">CubeMX parameters</span>\n",
    "\n",
    "<style type=\"text/css\">\n",
    ".tg  {border-collapse:collapse;border-spacing:0;border-color:#999;}\n",
    ".tg td{font-family:Arial, sans-serif;font-size:14px;padding:10px 5px;border-style:solid;border-width:0px;overflow:hidden;word-break:normal;border-color:#999;color:#444;background-color:#F7FDFA;}\n",
    ".tg th{font-family:Arial, sans-serif;font-size:14px;font-weight:normal;padding:10px 5px;border-style:solid;border-width:0px;overflow:hidden;word-break:normal;border-color:#999;color:#fff;background-color:#26ADE4;}\n",
    ".tg .tg-c3ow{border-color:inherit;text-align:left;vertical-align:top}\n",
    ".tg .tg-fymr{font-weight:bold;border-color:inherit;text-align:center;vertical-align:top}\n",
    ".tg .tg-0pky{border-color:inherit;text-align:left;vertical-align:top}\n",
    ".tg .tg-7btt{font-weight:bold;border-color:inherit;text-align:center;vertical-align:top}\n",
    "</style>\n",
    "<table class=\"tg\">\n",
    "  <caption>Table III. Project specification</caption>\n",
    "  <tr>\n",
    "    <th class=\"tg-fymr\" colspan=\"2\">Class</th>\n",
    "    <th class=\"tg-fymr\" colspan=\"2\">Attribute</th>\n",
    "    <th class=\"tg-fymr\" colspan=\"3\">Value</th>\n",
    "  </tr>\n",
    "  <tr>\n",
    "    <td class=\"tg-c3ow\" colspan=\"2\"><b>Project</b></td>\n",
    "    <td class=\"tg-c3ow\" colspan=\"2\">Name</td>\n",
    "    <td class=\"tg-c3ow\" colspan=\"3\">F767ZIV1_IntS1</td>\n",
    "  </tr>\n",
    "  <tr>\n",
    "    <td class=\"tg-c3ow\" colspan=\"2\"></td>\n",
    "    <td class=\"tg-c3ow\" colspan=\"2\">Clock</td>\n",
    "    <td class=\"tg-c3ow\" colspan=\"3\">16Mhz</td>\n",
    "  </tr>\n",
    "  <tr>\n",
    "    <td class=\"tg-c3ow\" colspan=\"2\"></td>\n",
    "    <td class=\"tg-c3ow\" colspan=\"2\">Timebase source</td>\n",
    "    <td class=\"tg-c3ow\" colspan=\"3\">TM1</td>\n",
    "  </tr>\n",
    "  <tr>\n",
    "    <td class=\"tg-c3ow\" colspan=\"2\"><b>STM32 Pins</b></td>\n",
    "      <td class=\"tg-c3ow\" colspan=\"2\"><span style=\"color:red\">PB12, PB13, PD9, PD8, <br> PA3, PA13, PA14, PB8 and PB9\n",
    "</span> </td>\n",
    "    <td class=\"tg-c3ow\" colspan=\"3\"><span style=\"color:red\">Set PB12 to UART5_RX <br> Set PB13 to UART5_TX <br> Set PD9 to USART3_RX <br> Set PD8 to USART3_TX <br> Set PA3 to ADC1_INE3 <br> Set PA13 to SYS_JTM-SWDIO <br> Set PA14 to SYS_JTCK-SWCLCK <br> Set PB9 to RYLR_Output <br> Set PB8 to RYLR_Input</span></td>\n",
    "    \n",
    "  </tr>\n",
    "  <tr>\n",
    "    <td class=\"tg-c3ow\" colspan=\"2\"><b>FreeRTOS</b></td>\n",
    "    <td class=\"tg-c3ow\" colspan=\"2\">API</td>\n",
    "    <td class=\"tg-c3ow\" colspan=\"3\">CMSIS v1</td>\n",
    "  </tr>\n",
    " <tr>\n",
    "    <td class=\"tg-fymr\"><b>Task/interrupt</b></td>\n",
    "    <td class=\"tg-fymr\"><b>Type</b></td>\n",
    "    <td class=\"tg-fymr\"><b>Name</b></td>\n",
    "    <td class=\"tg-fymr\"><b>Entry function</b></td>\n",
    "    <td class=\"tg-fymr\"><b>w_j</b></td>\n",
    "    <td class=\"tg-fymr\"><b>p_j</b></td>\n",
    "    <td class=\"tg-fymr\"><b>Port</b></td>\n",
    "  </tr>\n",
    "  <tr>\n",
    "      <td class=\"tg-fymr\">1</td>\n",
    "      <td class=\"tg-fymr\">Default</td>\n",
    "      <td class=\"tg-fymr\">defaultTask</td>\n",
    "      <td class=\"tg-fymr\"><span style=\"color:red\">StartDesafultTask</span></td>\n",
    "      <td class=\"tg-fymr\">osPriorityNormal</td>\n",
    "      <td class=\"tg-fymr\"></td>\n",
    "      <td class=\"tg-fymr\">PC13</td>\n",
    "    </tr>\n",
    " \n",
    "</table>\n"
   ]
  },
  {
   "cell_type": "markdown",
   "id": "b709dd84",
   "metadata": {},
   "source": [
    "## <span style=\"color:blue\">Conceptual Static Model</span>\n",
    "\n",
    "<center>\n",
    "<img class=\"large-image\" width=\"600\" height=\"600\" src=\"../img/conceptual-static-model.png\" />\n",
    "</center>"
   ]
  },
  {
   "cell_type": "markdown",
   "id": "66310e72",
   "metadata": {},
   "source": [
    "## <span style=\"color:blue\">Communication Diagram</span>\n",
    "\n",
    "<center>\n",
    "<img class=\"large-image\" width=\"450\" height=\"450\" src=\"../img/communication-diagram.jpeg\" />\n",
    "</center>"
   ]
  },
  {
   "cell_type": "markdown",
   "id": "uCRuYt0mrYSZ",
   "metadata": {
    "id": "uCRuYt0mrYSZ"
   },
   "source": [
    "## <span style=\"color:blue\">Software components</span>"
   ]
  },
  {
   "cell_type": "markdown",
   "id": "VY8GUZ7FrYSa",
   "metadata": {
    "id": "VY8GUZ7FrYSa"
   },
   "source": [
    "### Sender\n",
    "\n",
    "#### Initial Variable Declaration\n",
    "\n",
    "The first declaration are the global variables, which are set outside any function. We setup the next variables:\n",
    "\n",
    "- xQueue1: Queue with the xQueueHandle\n",
    "- raw: unasigned char which is where the ADC value of the potentiometer is going to be stored\n",
    "- xData_Available: Binary semaphore to message when a value has just been pooled and is ready for storing in queue\n",
    "- xData_cont: Binary semaphore to message when the value has been succesfully stored in queue and send if necesary\n",
    "- middle: integer to notify if the potentiometer has passed through the middle\n",
    "- buffer3: Buffer save the response of LoRA module\n",
    "- whoops: Buffer that prints in case the connection to the LoRA module wasn't succesfull\n",
    "- buffer_long: Buffer that saves the response after sending the values to the receiving LoRA module\n",
    "\n",
    "Within the main function, we initialize 2 tasks, ReadingTask and UploadTask, both with normal priority, lastly we initialize xQueue1 as a queue that can store 20 characters, and both xData_Available and xData_cont as binary semaphores.\n",
    "\n",
    "```\n",
    "xQueueHandle xQueue1;\n",
    "uint16_t raw;\n",
    "SemaphoreHandle_t xData_Available;\n",
    "SemaphoreHandle_t xData_cont;\n",
    "int middle = 0;\n",
    "uint8_t buffer3[5];\n",
    "uint8_t whoops[] = \"Whoops\\r\\n\";\n",
    "uint8_t buffer_long[10];\n",
    "\n",
    "int main(void){\n",
    "    osThreadDef(ReadingTask, ReadingTaskHook, osPriorityNormal, 0, 128);\n",
    "    ReadingTaskHandle = osThreadCreate(osThread(ReadingTask), NULL);\n",
    "    osThreadDef(UploadTask, UploadTaskHook, osPriorityNormal, 0, 128);\n",
    "    UploadTaskHandle = osThreadCreate(osThread(UploadTask), NULL);\n",
    "\n",
    "    xQueue1 = xQueueCreate(20, sizeof(char));\n",
    "    xData_Available = xSemaphoreCreateBinary();\n",
    "    xData_cont = xSemaphoreCreateBinary();\n",
    "}\n",
    "```"
   ]
  },
  {
   "cell_type": "markdown",
   "id": "6cb2597c",
   "metadata": {
    "id": "VY8GUZ7FrYSa"
   },
   "source": [
    "#### Uploading values to Queue\n",
    "\n",
    "The function \"MX_GPIO_Init\" enables and sets all needed pins to an initially deasserted state, so that they can be used in the rest of the program.\n",
    "\n",
    "```\n",
    "void UploadTaskHook(void const * argument)\n",
    "{\n",
    "\tfor(;;)\n",
    "\t{\n",
    "\t\txSemaphoreTake( xData_Available,  portMAX_DELAY);\n",
    "\t\tchar msg2[10];\n",
    "\t\tsprintf(msg2, \"%lu\\r\\n\", uxQueueSpacesAvailable( xQueue1 ));\n",
    "\t\tHAL_UART_Transmit(&huart3, (uint8_t*)msg2, strlen(msg2), 100);\n",
    "\t\tchar msg3[5];\n",
    "\t\tsprintf(msg3, \"%u\\r\\n\", *myString);\n",
    "\t\tHAL_UART_Transmit(&huart3, (uint8_t*)msg3, strlen(msg3), 100);\n",
    "\t\t//xQueueSend(xQueue1, msg3, portMAX_DELAY);\n",
    "\t\tfor(int i = 0; i<sizeof(msg3); i++){\n",
    "\t\t\tif( xQueueSend( xQueue1, &msg3+i, ( TickType_t ) 0 ) != pdPASS )\n",
    "\t\t\t{\n",
    "\t\t\t\tuint8_t buffer9[] = \"Failed to Upload\\r\\n\";\n",
    "\t\t\t\tHAL_UART_Transmit(&huart3, buffer9, sizeof(buffer9), 100);\n",
    "\t\t\t} else {\n",
    "\t\t\t\tuint8_t buffer9[] = \"Upload :)\\r\\n\";\n",
    "\t\t\t\tHAL_UART_Transmit(&huart3, buffer9, sizeof(buffer9), 100);\n",
    "\t\t\t}\n",
    "\t\t}\n",
    "\t\tif (uxQueueSpacesAvailable( xQueue1 ) == 0){\n",
    "\t\t\tsending_function();\n",
    "\t\t}\n",
    "\t\txSemaphoreGive( xData_cont);\n",
    "\t}\n",
    "}\n",
    "```"
   ]
  },
  {
   "cell_type": "markdown",
   "id": "9666a2d0",
   "metadata": {
    "id": "VY8GUZ7FrYSa"
   },
   "source": [
    "#### Reading Potentiometer\n",
    "\n",
    "The function \"MX_GPIO_Init\" enables and sets all needed pins to an initially deasserted state, so that they can be used in the rest of the program.\n",
    "\n",
    "```\n",
    "void ReadingTaskHook(void const * argument)\n",
    "{\n",
    "\tTickType_t tickCount;\n",
    "    /* The cycle time period. The task will be unblocked at time (in ticks)*/\n",
    "    TickType_t frequency = 5000;\n",
    "\n",
    "    /* Get the current tck count */\n",
    "    tickCount = xTaskGetTickCount();\n",
    "\n",
    "    uint8_t buffer[19] = \"AT+BAND=868500000\\r\\n\";\n",
    "    uint8_t buffer4[16] = \"AT+NETWORKID=5\\r\\n\";\n",
    "    uint8_t buffer5[16] = \"AT+ADDRESS=101\\r\\n\";\n",
    "\n",
    "    HAL_UART_Transmit(&huart5, buffer, sizeof(buffer), 100);\n",
    "\n",
    "    HAL_StatusTypeDef status1 = HAL_UART_Receive(&huart5, buffer3, sizeof(buffer3), 1000);\n",
    "    if(status1 != HAL_OK){\n",
    "       HAL_UART_Transmit(&huart3, whoops, sizeof(whoops), 100);\n",
    "    }\n",
    "    else{\n",
    "       HAL_UART_Transmit(&huart3, buffer3, sizeof(buffer3), 100);\n",
    "    }\n",
    "\n",
    "    vTaskDelayUntil( &tickCount, 1000 );\n",
    "\n",
    "    HAL_UART_Transmit(&huart5, buffer4, sizeof(buffer4), 100);\n",
    "\n",
    "    HAL_StatusTypeDef status2 = HAL_UART_Receive(&huart5, buffer3, sizeof(buffer3), 1000);\n",
    "    if(status2 != HAL_OK){\n",
    "       HAL_UART_Transmit(&huart3, whoops, sizeof(whoops), 100);\n",
    "    }\n",
    "    else{\n",
    "       HAL_UART_Transmit(&huart3, buffer3, sizeof(buffer3), 100);\n",
    "    }\n",
    "\n",
    "    vTaskDelayUntil( &tickCount, 1000 );\n",
    "\n",
    "    HAL_UART_Transmit(&huart5, buffer5, sizeof(buffer5), 100);\n",
    "\n",
    "    HAL_StatusTypeDef status4 = HAL_UART_Receive(&huart5, buffer3, sizeof(buffer3), 1000);\n",
    "    if(status4 != HAL_OK){\n",
    "       HAL_UART_Transmit(&huart3, whoops, sizeof(whoops), 100);\n",
    "    }\n",
    "    else{\n",
    "       HAL_UART_Transmit(&huart3, buffer3, sizeof(buffer3), 100);\n",
    "    }\n",
    "\n",
    "    vTaskDelayUntil( &tickCount, 1000 );\n",
    "\n",
    "    for(;;)\n",
    "    {\n",
    "        uint8_t buffer1[] = \"Reading\\r\\n\";\n",
    "        HAL_UART_Transmit(&huart3, buffer1, sizeof(buffer1), 100);\n",
    "        HAL_ADC_Start(&hadc1);\n",
    "        HAL_ADC_PollForConversion(&hadc1, HAL_MAX_DELAY);\n",
    "        raw = HAL_ADC_GetValue(&hadc1);\n",
    "\n",
    "        if(raw < 60){\n",
    "                  if (middle == 0){\n",
    "                      raw = 10;\n",
    "                  } else {\n",
    "                      raw = 40;\n",
    "                  }\n",
    "              }\n",
    "              else{\n",
    "                  if(raw < 135){\n",
    "                      raw = 20;\n",
    "                      middle = 0;\n",
    "                  }\n",
    "                  else {\n",
    "                     raw = 30;\n",
    "                     middle = 1;\n",
    "                  }\n",
    "              }\n",
    "        myString=&raw;\n",
    "        xSemaphoreGive(xData_Available);\n",
    "        xSemaphoreTake(xData_cont,  portMAX_DELAY);\n",
    "        vTaskDelayUntil( &tickCount, frequency );\n",
    "    }\n",
    "}\n",
    "```"
   ]
  },
  {
   "cell_type": "markdown",
   "id": "3b0e8962",
   "metadata": {
    "id": "VY8GUZ7FrYSa"
   },
   "source": [
    "#### Sending Queue to Lora\n",
    "\n",
    "The function \"MX_GPIO_Init\" enables and sets all needed pins to an initially deasserted state, so that they can be used in the rest of the program.\n",
    "\n",
    "```\n",
    "void sending_function() {\n",
    "\tchar msg[1];\n",
    "\tTickType_t tickCount;\n",
    "\ttickCount = xTaskGetTickCount();\n",
    "\t  /*uint8_t buffer3[5];\n",
    "\t  uint8_t whoops[] = \"Whoops\\r\\n\";*/\n",
    "\n",
    "\tfor(int i = 0; i<4; i++){\n",
    "\t\txQueueReceive( xQueue1, &msg, ( TickType_t ) 0 );\n",
    "\t\tchar buffer6[17];\n",
    "\t\tsprintf(buffer6, \"AT+SEND=102,1,%c\\r\\n\", *msg);\n",
    "\t\tHAL_UART_Transmit(&huart3, buffer6, sizeof(buffer6), 100);\n",
    "\n",
    "\t\tHAL_UART_Transmit(&huart5, buffer6, sizeof(buffer6), 100);\n",
    "\n",
    "\t\tHAL_StatusTypeDef status1 = HAL_UART_Receive(&huart5, buffer_long, sizeof(buffer_long), 1000);\n",
    "\t    if(status1 != HAL_OK){\n",
    "\t\t   HAL_UART_Transmit(&huart3, whoops, sizeof(whoops), 100);\n",
    "\t    }\n",
    "\t    else{\n",
    "\t       HAL_UART_Transmit(&huart3, buffer_long, sizeof(buffer_long), 100);\n",
    "\t    }\n",
    "\n",
    "\t    vTaskDelayUntil( &tickCount, 1000 );\n",
    "\n",
    "\t\txQueueReceive( xQueue1, &msg, ( TickType_t ) 0 );\n",
    "\t\txQueueReceive( xQueue1, &msg, ( TickType_t ) 0 );\n",
    "\t\txQueueReceive( xQueue1, &msg, ( TickType_t ) 0 );\n",
    "\t\txQueueReceive( xQueue1, &msg, ( TickType_t ) 0 );\n",
    "\t}\n",
    "}\n",
    "```"
   ]
  },
  {
   "cell_type": "markdown",
   "id": "4bdd9388",
   "metadata": {},
   "source": [
    "### <span style=\"color:blue\">References</span>\n",
    "\n",
    "REYAX. (2021). *RYLR89. UART Interface 868/915MHz LoRa® Antenna Transceiver Module Datasheet.* https://drive.google.com/file/d/1zzNvf_Y6WWmdq7PhkajRj_tkiddXmK2j/view?usp=sharing\n",
    "\n",
    "STMicroelectronics. (2020). *UM1974 User manual. STM32 Nucleo-144 boards (MB1137)* https://drive.google.com/file/d/1S6hjZu_6k5-xtig2-4RWoy4vuPnUV0gj/view?usp=sharing\n",
    "\n",
    "TT Electronic. (2019). *Rotary Potentiometer P160 Series* https://drive.google.com/file/d/1safhZWP4hK1Ilp4WD5VxY0KaoLWx3ulT/view?usp=sharing"
   ]
  }
 ],
 "metadata": {
  "colab": {
   "collapsed_sections": [],
   "provenance": []
  },
  "kernelspec": {
   "display_name": "Python 3 (ipykernel)",
   "language": "python",
   "name": "python3"
  },
  "language_info": {
   "codemirror_mode": {
    "name": "ipython",
    "version": 3
   },
   "file_extension": ".py",
   "mimetype": "text/x-python",
   "name": "python",
   "nbconvert_exporter": "python",
   "pygments_lexer": "ipython3",
   "version": "3.9.12"
  }
 },
 "nbformat": 4,
 "nbformat_minor": 5
}
